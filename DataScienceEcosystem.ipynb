{
  "nbformat": 4,
  "nbformat_minor": 0,
  "metadata": {
    "colab": {
      "provenance": [],
      "authorship_tag": "ABX9TyPEfvq5u0ZP0amgi0jaCkQD",
      "include_colab_link": true
    },
    "kernelspec": {
      "name": "python3",
      "display_name": "Python 3"
    },
    "language_info": {
      "name": "python"
    }
  },
  "cells": [
    {
      "cell_type": "markdown",
      "metadata": {
        "id": "view-in-github",
        "colab_type": "text"
      },
      "source": [
        "<a href=\"https://colab.research.google.com/github/mlealnormand/TestRepo/blob/main/DataScienceEcosystem.ipynb\" target=\"_parent\"><img src=\"https://colab.research.google.com/assets/colab-badge.svg\" alt=\"Open In Colab\"/></a>"
      ]
    },
    {
      "cell_type": "code",
      "execution_count": null,
      "metadata": {
        "id": "5-W2QTjjS3Ot"
      },
      "outputs": [],
      "source": []
    },
    {
      "cell_type": "markdown",
      "source": [
        "# Data Science Tools and Ecosystem"
      ],
      "metadata": {
        "id": "wHfAofNplGjx"
      }
    },
    {
      "cell_type": "markdown",
      "source": [
        "### En este cuaderno, se resumen las herramientas y ecosistemas de ciencia de datos."
      ],
      "metadata": {
        "id": "IoAH3JaKl32U"
      }
    },
    {
      "cell_type": "markdown",
      "source": [
        "\n",
        "\n",
        "Algunos de los lenguajes populares que utilizan los científicos de datos son:\n",
        "\n",
        "1. Python\n",
        "2. R\n",
        "3. SQL\n",
        "4. Julia\n"
      ],
      "metadata": {
        "id": "zMGnMGwHmWU7"
      }
    },
    {
      "cell_type": "code",
      "source": [],
      "metadata": {
        "id": "A-VoBNZ3muv3"
      },
      "execution_count": null,
      "outputs": []
    },
    {
      "cell_type": "markdown",
      "source": [
        "Algunas de las bibliotecas comúnmente utilizadas por los científicos de datos incluyen:\n",
        "\n",
        "1. Pandas\n",
        "2. NumPy\n",
        "3. Matplotlib\n",
        "4. Scikit-learn"
      ],
      "metadata": {
        "id": "U3dGvyFanS0w"
      }
    },
    {
      "cell_type": "markdown",
      "source": [],
      "metadata": {
        "id": "DWh9yG62nje4"
      }
    },
    {
      "cell_type": "markdown",
      "source": [
        "### A continuación, se presentan algunos ejemplos de evaluación de expresiones aritméticas en Python.\n",
        "\n",
        "- Suma: `5 + 3 = 8`\n",
        "- Resta: `10 - 2 = 8`\n",
        "- Multiplicación: `4 * 3 = 12`\n",
        "- División: `20 / 4 = 5`\n",
        "- Potencia: `2 ** 3 = 8`\n",
        "- Módulo: `10 % 3 = 1`"
      ],
      "metadata": {
        "id": "gMKaVGRso9DA"
      }
    },
    {
      "cell_type": "code",
      "source": [],
      "metadata": {
        "id": "UNBWgZJSnmK6"
      },
      "execution_count": null,
      "outputs": []
    },
    {
      "cell_type": "code",
      "source": [
        "# Esta es una expresión aritmética simple para multiplicar y luego sumar enteros\n",
        "resultado = (3 * 4) + 5\n",
        "resultado\n"
      ],
      "metadata": {
        "colab": {
          "base_uri": "https://localhost:8080/"
        },
        "id": "6RWQxWW7pVYo",
        "outputId": "9573664b-ec7b-4dea-c248-c69836e90a58"
      },
      "execution_count": 9,
      "outputs": [
        {
          "output_type": "execute_result",
          "data": {
            "text/plain": [
              "17"
            ]
          },
          "metadata": {},
          "execution_count": 9
        }
      ]
    },
    {
      "cell_type": "code",
      "source": [
        "# Esto convertirá 200 minutos a horas dividiendo por 60\n",
        "minutos = 200\n",
        "horas = minutos / 60\n",
        "horas\n"
      ],
      "metadata": {
        "colab": {
          "base_uri": "https://localhost:8080/"
        },
        "id": "ky9VZXrgplGo",
        "outputId": "37daf3c8-2298-410e-d5c1-60bf9fa5a2b8"
      },
      "execution_count": 10,
      "outputs": [
        {
          "output_type": "execute_result",
          "data": {
            "text/plain": [
              "3.3333333333333335"
            ]
          },
          "metadata": {},
          "execution_count": 10
        }
      ]
    },
    {
      "cell_type": "markdown",
      "source": [],
      "metadata": {
        "id": "eH70xi7zpx4I"
      }
    },
    {
      "cell_type": "markdown",
      "source": [
        "**Objetivos:**\n",
        "\n",
        "- Listar lenguajes populares para Ciencia de Datos\n",
        "- Identificar herramientas y ecosistemas para Ciencia de Datos\n",
        "- Explorar bibliotecas comunes utilizadas por científicos de datos\n",
        "- Mostrar ejemplos de expresiones aritméticas en Python\n",
        "- Convertir unidades de tiempo (minutos a horas)\n"
      ],
      "metadata": {
        "id": "57W9N-Qhp3XT"
      }
    },
    {
      "cell_type": "markdown",
      "source": [
        "## Autor\n",
        "\n",
        "Marcia Katherine Leal Normand\n"
      ],
      "metadata": {
        "id": "cTZi35LQqaxL"
      }
    },
    {
      "cell_type": "code",
      "source": [],
      "metadata": {
        "id": "6Q6gMYG_odoo"
      },
      "execution_count": null,
      "outputs": []
    }
  ]
}